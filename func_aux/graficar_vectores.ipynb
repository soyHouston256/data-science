{
 "cells": [
  {
   "cell_type": "code",
   "execution_count": null,
   "id": "130f332f-035b-4d94-93a8-efe97c9996c5",
   "metadata": {},
   "outputs": [],
   "source": [
    "def graficar_vector(vectores, colors, alpha=1):\n",
    "    plt.figure()\n",
    "    plt.axvline(x=0, color='gray', zorder= 0 )\n",
    "    plt.axhline(y=0, color='gray', zorder= 0 )\n",
    "    for i in range(len(vectores)):\n",
    "        x = np.concatenate([[0,0], vectores[i]])\n",
    "        plt.quiver([x[0]],[x[1]],[x[2]],[x[3]], angles='xy', scale_units='xy', scale=1, alpha=alpha, color=colors[i])\n"
   ]
  }
 ],
 "metadata": {
  "kernelspec": {
   "display_name": "Python 3 (ipykernel)",
   "language": "python",
   "name": "python3"
  },
  "language_info": {
   "codemirror_mode": {
    "name": "ipython",
    "version": 3
   },
   "file_extension": ".py",
   "mimetype": "text/x-python",
   "name": "python",
   "nbconvert_exporter": "python",
   "pygments_lexer": "ipython3",
   "version": "3.12.4"
  }
 },
 "nbformat": 4,
 "nbformat_minor": 5
}
